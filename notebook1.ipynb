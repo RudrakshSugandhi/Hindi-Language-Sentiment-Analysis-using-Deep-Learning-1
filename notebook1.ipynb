{
 "metadata": {
  "language_info": {
   "codemirror_mode": {
    "name": "ipython",
    "version": 3
   },
   "file_extension": ".py",
   "mimetype": "text/x-python",
   "name": "python",
   "nbconvert_exporter": "python",
   "pygments_lexer": "ipython3",
   "version": "3.8.5-final"
  },
  "orig_nbformat": 2,
  "kernelspec": {
   "name": "Python 3.8.5 64-bit ('pytorch_environment_1': conda)",
   "display_name": "Python 3.8.5 64-bit ('pytorch_environment_1': conda)",
   "metadata": {
    "interpreter": {
     "hash": "546a97bc34ee4406f72a8dcafb58dda2b8f188a7944daa3d735aeae3a379616f"
    }
   }
  }
 },
 "nbformat": 4,
 "nbformat_minor": 2,
 "cells": [
  {
   "cell_type": "code",
   "execution_count": 1,
   "metadata": {},
   "outputs": [],
   "source": [
    "import pandas as pd\n",
    "import torch"
   ]
  },
  {
   "cell_type": "code",
   "execution_count": 22,
   "metadata": {},
   "outputs": [],
   "source": [
    "df=pd.read_csv(\"Data.csv\")"
   ]
  },
  {
   "cell_type": "code",
   "execution_count": 23,
   "metadata": {},
   "outputs": [
    {
     "output_type": "execute_result",
     "data": {
      "text/plain": [
       "   Unnamed: 0                                               text  target\n",
       "0        1982  लोकसभा चुनाव के लिए जिला निर्वाचन अधिकारी द्वा...       0\n",
       "1         937                  पथिक नदी का ठंडा जल पी रहा है\\r\\n       1\n",
       "2        2128  गेहूं की कटाई और बढ़ते तापमान ने भी बाजार की र...       0\n",
       "3        2137  पिछले वर्ष की अपेक्षा इस वर्ष चुनाव ने बाजार क...       0\n",
       "4         521  सलामी बल्लेबाज मुरलीधरन गौतम ने भी 30 रन की उप...       1\n",
       "5        1518  सोनाक्षी सिन्हा जिनका बढ़ा हुआ वजन अक्सर उनका ...       0\n",
       "6        2237  झगड़े पर उतारु हो गए, लेकिन अमले ने उनकी एक नह...       0\n",
       "7        1247  घरेलू स्टील उपभोग में कम वृद्धि से यह संकेत मि...       0\n",
       "8          61  इसके साथ ही आप बिना किसी कठिनाई के म्यूजिक सुन...       1\n",
       "9         803  शिनाख्स से संतुष्ट होने के बाद पर्स उसे लौटा द...       1"
      ],
      "text/html": "<div>\n<style scoped>\n    .dataframe tbody tr th:only-of-type {\n        vertical-align: middle;\n    }\n\n    .dataframe tbody tr th {\n        vertical-align: top;\n    }\n\n    .dataframe thead th {\n        text-align: right;\n    }\n</style>\n<table border=\"1\" class=\"dataframe\">\n  <thead>\n    <tr style=\"text-align: right;\">\n      <th></th>\n      <th>Unnamed: 0</th>\n      <th>text</th>\n      <th>target</th>\n    </tr>\n  </thead>\n  <tbody>\n    <tr>\n      <th>0</th>\n      <td>1982</td>\n      <td>लोकसभा चुनाव के लिए जिला निर्वाचन अधिकारी द्वा...</td>\n      <td>0</td>\n    </tr>\n    <tr>\n      <th>1</th>\n      <td>937</td>\n      <td>पथिक नदी का ठंडा जल पी रहा है\\r\\n</td>\n      <td>1</td>\n    </tr>\n    <tr>\n      <th>2</th>\n      <td>2128</td>\n      <td>गेहूं की कटाई और बढ़ते तापमान ने भी बाजार की र...</td>\n      <td>0</td>\n    </tr>\n    <tr>\n      <th>3</th>\n      <td>2137</td>\n      <td>पिछले वर्ष की अपेक्षा इस वर्ष चुनाव ने बाजार क...</td>\n      <td>0</td>\n    </tr>\n    <tr>\n      <th>4</th>\n      <td>521</td>\n      <td>सलामी बल्लेबाज मुरलीधरन गौतम ने भी 30 रन की उप...</td>\n      <td>1</td>\n    </tr>\n    <tr>\n      <th>5</th>\n      <td>1518</td>\n      <td>सोनाक्षी सिन्हा जिनका बढ़ा हुआ वजन अक्सर उनका ...</td>\n      <td>0</td>\n    </tr>\n    <tr>\n      <th>6</th>\n      <td>2237</td>\n      <td>झगड़े पर उतारु हो गए, लेकिन अमले ने उनकी एक नह...</td>\n      <td>0</td>\n    </tr>\n    <tr>\n      <th>7</th>\n      <td>1247</td>\n      <td>घरेलू स्टील उपभोग में कम वृद्धि से यह संकेत मि...</td>\n      <td>0</td>\n    </tr>\n    <tr>\n      <th>8</th>\n      <td>61</td>\n      <td>इसके साथ ही आप बिना किसी कठिनाई के म्यूजिक सुन...</td>\n      <td>1</td>\n    </tr>\n    <tr>\n      <th>9</th>\n      <td>803</td>\n      <td>शिनाख्स से संतुष्ट होने के बाद पर्स उसे लौटा द...</td>\n      <td>1</td>\n    </tr>\n  </tbody>\n</table>\n</div>"
     },
     "metadata": {},
     "execution_count": 23
    }
   ],
   "source": [
    "df.head(10)"
   ]
  },
  {
   "cell_type": "code",
   "execution_count": 24,
   "metadata": {},
   "outputs": [
    {
     "output_type": "execute_result",
     "data": {
      "text/plain": [
       "Index(['Unnamed: 0', 'text', 'target'], dtype='object')"
      ]
     },
     "metadata": {},
     "execution_count": 24
    }
   ],
   "source": [
    "df.columns"
   ]
  },
  {
   "cell_type": "code",
   "execution_count": 25,
   "metadata": {},
   "outputs": [],
   "source": [
    "df.drop('Unnamed: 0', axis=1, inplace=True)"
   ]
  },
  {
   "cell_type": "code",
   "execution_count": 26,
   "metadata": {},
   "outputs": [
    {
     "output_type": "execute_result",
     "data": {
      "text/plain": [
       "                                                text  target\n",
       "0  लोकसभा चुनाव के लिए जिला निर्वाचन अधिकारी द्वा...       0\n",
       "1                  पथिक नदी का ठंडा जल पी रहा है\\r\\n       1\n",
       "2  गेहूं की कटाई और बढ़ते तापमान ने भी बाजार की र...       0\n",
       "3  पिछले वर्ष की अपेक्षा इस वर्ष चुनाव ने बाजार क...       0\n",
       "4  सलामी बल्लेबाज मुरलीधरन गौतम ने भी 30 रन की उप...       1\n",
       "5  सोनाक्षी सिन्हा जिनका बढ़ा हुआ वजन अक्सर उनका ...       0\n",
       "6  झगड़े पर उतारु हो गए, लेकिन अमले ने उनकी एक नह...       0\n",
       "7  घरेलू स्टील उपभोग में कम वृद्धि से यह संकेत मि...       0\n",
       "8  इसके साथ ही आप बिना किसी कठिनाई के म्यूजिक सुन...       1\n",
       "9  शिनाख्स से संतुष्ट होने के बाद पर्स उसे लौटा द...       1"
      ],
      "text/html": "<div>\n<style scoped>\n    .dataframe tbody tr th:only-of-type {\n        vertical-align: middle;\n    }\n\n    .dataframe tbody tr th {\n        vertical-align: top;\n    }\n\n    .dataframe thead th {\n        text-align: right;\n    }\n</style>\n<table border=\"1\" class=\"dataframe\">\n  <thead>\n    <tr style=\"text-align: right;\">\n      <th></th>\n      <th>text</th>\n      <th>target</th>\n    </tr>\n  </thead>\n  <tbody>\n    <tr>\n      <th>0</th>\n      <td>लोकसभा चुनाव के लिए जिला निर्वाचन अधिकारी द्वा...</td>\n      <td>0</td>\n    </tr>\n    <tr>\n      <th>1</th>\n      <td>पथिक नदी का ठंडा जल पी रहा है\\r\\n</td>\n      <td>1</td>\n    </tr>\n    <tr>\n      <th>2</th>\n      <td>गेहूं की कटाई और बढ़ते तापमान ने भी बाजार की र...</td>\n      <td>0</td>\n    </tr>\n    <tr>\n      <th>3</th>\n      <td>पिछले वर्ष की अपेक्षा इस वर्ष चुनाव ने बाजार क...</td>\n      <td>0</td>\n    </tr>\n    <tr>\n      <th>4</th>\n      <td>सलामी बल्लेबाज मुरलीधरन गौतम ने भी 30 रन की उप...</td>\n      <td>1</td>\n    </tr>\n    <tr>\n      <th>5</th>\n      <td>सोनाक्षी सिन्हा जिनका बढ़ा हुआ वजन अक्सर उनका ...</td>\n      <td>0</td>\n    </tr>\n    <tr>\n      <th>6</th>\n      <td>झगड़े पर उतारु हो गए, लेकिन अमले ने उनकी एक नह...</td>\n      <td>0</td>\n    </tr>\n    <tr>\n      <th>7</th>\n      <td>घरेलू स्टील उपभोग में कम वृद्धि से यह संकेत मि...</td>\n      <td>0</td>\n    </tr>\n    <tr>\n      <th>8</th>\n      <td>इसके साथ ही आप बिना किसी कठिनाई के म्यूजिक सुन...</td>\n      <td>1</td>\n    </tr>\n    <tr>\n      <th>9</th>\n      <td>शिनाख्स से संतुष्ट होने के बाद पर्स उसे लौटा द...</td>\n      <td>1</td>\n    </tr>\n  </tbody>\n</table>\n</div>"
     },
     "metadata": {},
     "execution_count": 26
    }
   ],
   "source": [
    "df.head(10)"
   ]
  },
  {
   "cell_type": "code",
   "execution_count": 27,
   "metadata": {},
   "outputs": [],
   "source": [
    "import codecs\n",
    "stopwords=  pd.DataFrame(codecs.open(\"hindi_stopwords.txt\",'r','utf-8'),columns=['words'])"
   ]
  },
  {
   "cell_type": "code",
   "execution_count": 28,
   "metadata": {},
   "outputs": [],
   "source": [
    "stopwords['words']=stopwords['words'].apply(lambda x: x.rstrip())\n"
   ]
  },
  {
   "cell_type": "code",
   "execution_count": 29,
   "metadata": {},
   "outputs": [],
   "source": [
    "stopwords_list=stopwords['words'].tolist()\n"
   ]
  },
  {
   "cell_type": "code",
   "execution_count": 30,
   "metadata": {},
   "outputs": [],
   "source": [
    "df['text'] = df['text'].apply(lambda x: x.rstrip())\n",
    "df['text']=df['text'].astype(str)"
   ]
  },
  {
   "cell_type": "code",
   "execution_count": 31,
   "metadata": {},
   "outputs": [
    {
     "output_type": "execute_result",
     "data": {
      "text/plain": [
       "                                                text  target\n",
       "0  लोकसभा चुनाव के लिए जिला निर्वाचन अधिकारी द्वा...       0\n",
       "1                      पथिक नदी का ठंडा जल पी रहा है       1\n",
       "2  गेहूं की कटाई और बढ़ते तापमान ने भी बाजार की र...       0\n",
       "3  पिछले वर्ष की अपेक्षा इस वर्ष चुनाव ने बाजार क...       0\n",
       "4  सलामी बल्लेबाज मुरलीधरन गौतम ने भी 30 रन की उप...       1\n",
       "5  सोनाक्षी सिन्हा जिनका बढ़ा हुआ वजन अक्सर उनका ...       0\n",
       "6  झगड़े पर उतारु हो गए, लेकिन अमले ने उनकी एक नह...       0\n",
       "7  घरेलू स्टील उपभोग में कम वृद्धि से यह संकेत मि...       0\n",
       "8  इसके साथ ही आप बिना किसी कठिनाई के म्यूजिक सुन...       1\n",
       "9  शिनाख्स से संतुष्ट होने के बाद पर्स उसे लौटा द...       1"
      ],
      "text/html": "<div>\n<style scoped>\n    .dataframe tbody tr th:only-of-type {\n        vertical-align: middle;\n    }\n\n    .dataframe tbody tr th {\n        vertical-align: top;\n    }\n\n    .dataframe thead th {\n        text-align: right;\n    }\n</style>\n<table border=\"1\" class=\"dataframe\">\n  <thead>\n    <tr style=\"text-align: right;\">\n      <th></th>\n      <th>text</th>\n      <th>target</th>\n    </tr>\n  </thead>\n  <tbody>\n    <tr>\n      <th>0</th>\n      <td>लोकसभा चुनाव के लिए जिला निर्वाचन अधिकारी द्वा...</td>\n      <td>0</td>\n    </tr>\n    <tr>\n      <th>1</th>\n      <td>पथिक नदी का ठंडा जल पी रहा है</td>\n      <td>1</td>\n    </tr>\n    <tr>\n      <th>2</th>\n      <td>गेहूं की कटाई और बढ़ते तापमान ने भी बाजार की र...</td>\n      <td>0</td>\n    </tr>\n    <tr>\n      <th>3</th>\n      <td>पिछले वर्ष की अपेक्षा इस वर्ष चुनाव ने बाजार क...</td>\n      <td>0</td>\n    </tr>\n    <tr>\n      <th>4</th>\n      <td>सलामी बल्लेबाज मुरलीधरन गौतम ने भी 30 रन की उप...</td>\n      <td>1</td>\n    </tr>\n    <tr>\n      <th>5</th>\n      <td>सोनाक्षी सिन्हा जिनका बढ़ा हुआ वजन अक्सर उनका ...</td>\n      <td>0</td>\n    </tr>\n    <tr>\n      <th>6</th>\n      <td>झगड़े पर उतारु हो गए, लेकिन अमले ने उनकी एक नह...</td>\n      <td>0</td>\n    </tr>\n    <tr>\n      <th>7</th>\n      <td>घरेलू स्टील उपभोग में कम वृद्धि से यह संकेत मि...</td>\n      <td>0</td>\n    </tr>\n    <tr>\n      <th>8</th>\n      <td>इसके साथ ही आप बिना किसी कठिनाई के म्यूजिक सुन...</td>\n      <td>1</td>\n    </tr>\n    <tr>\n      <th>9</th>\n      <td>शिनाख्स से संतुष्ट होने के बाद पर्स उसे लौटा द...</td>\n      <td>1</td>\n    </tr>\n  </tbody>\n</table>\n</div>"
     },
     "metadata": {},
     "execution_count": 31
    }
   ],
   "source": [
    "df.head(10)"
   ]
  },
  {
   "cell_type": "code",
   "execution_count": 32,
   "metadata": {},
   "outputs": [
    {
     "output_type": "stream",
     "name": "stdout",
     "text": [
      "<class 'pandas.core.frame.DataFrame'>\nRangeIndex: 2386 entries, 0 to 2385\nData columns (total 2 columns):\n #   Column  Non-Null Count  Dtype \n---  ------  --------------  ----- \n 0   text    2386 non-null   object\n 1   target  2386 non-null   int64 \ndtypes: int64(1), object(1)\nmemory usage: 37.4+ KB\n"
     ]
    }
   ],
   "source": [
    "df.info()"
   ]
  },
  {
   "cell_type": "code",
   "execution_count": 33,
   "metadata": {},
   "outputs": [],
   "source": [
    "\n",
    "def remove_stopwords(strn):\n",
    "    temp=[]\n",
    "    l=strn.split(\" \")\n",
    "    for word in l:\n",
    "        flag=0\n",
    "        for stop in stopwords_list:\n",
    "            if word==stop:\n",
    "                flag=1\n",
    "                break \n",
    "        if(flag==0):\n",
    "            temp.append(word)\n",
    "    return temp                \n",
    "\n"
   ]
  },
  {
   "cell_type": "code",
   "execution_count": 34,
   "metadata": {},
   "outputs": [],
   "source": [
    "df['text']=df['text'].apply(lambda x:remove_stopwords(x))"
   ]
  },
  {
   "cell_type": "code",
   "execution_count": 35,
   "metadata": {},
   "outputs": [
    {
     "output_type": "execute_result",
     "data": {
      "text/plain": [
       "0    [लोकसभा, चुनाव, जिला, निर्वाचन, अधिकारी, अधिग्...\n",
       "1                            [पथिक, नदी, ठंडा, जल, पी]\n",
       "2    [गेहूं, कटाई, बढ़ते, तापमान, बाजार, रौनक, फीका...\n",
       "3    [पिछले, वर्ष, अपेक्षा, वर्ष, चुनाव, बाजार, हल्...\n",
       "4    [सलामी, बल्लेबाज, मुरलीधरन, गौतम, 30, रन, उपयो...\n",
       "5    [सोनाक्षी, सिन्हा, जिनका, बढ़ा, वजन, अक्सर, मज...\n",
       "6                     [झगड़े, उतारु, गए,, अमले, सुनी।]\n",
       "7    [घरेलू, स्टील, उपभोग, कम, वृद्धि, संकेत, मिलता...\n",
       "8    [बिना, कठिनाई, म्यूजिक, सुनते, स्मार्टफोन, ऑडि...\n",
       "9                [शिनाख्स, संतुष्ट, पर्स, लौटा, दिया।]\n",
       "Name: text, dtype: object"
      ]
     },
     "metadata": {},
     "execution_count": 35
    }
   ],
   "source": [
    "df['text'].head(10)"
   ]
  },
  {
   "cell_type": "code",
   "execution_count": 36,
   "metadata": {},
   "outputs": [
    {
     "output_type": "execute_result",
     "data": {
      "text/plain": [
       "0    1202\n",
       "1    1184\n",
       "Name: target, dtype: int64"
      ]
     },
     "metadata": {},
     "execution_count": 36
    }
   ],
   "source": [
    "df['target'].value_counts()"
   ]
  },
  {
   "cell_type": "code",
   "execution_count": 37,
   "metadata": {},
   "outputs": [],
   "source": [
    "train_df = df.iloc[:2000,:] \n",
    "test_df= df.iloc[2001:,:]"
   ]
  },
  {
   "cell_type": "code",
   "execution_count": 38,
   "metadata": {},
   "outputs": [
    {
     "output_type": "execute_result",
     "data": {
      "text/plain": [
       "1    1001\n",
       "0     999\n",
       "Name: target, dtype: int64"
      ]
     },
     "metadata": {},
     "execution_count": 38
    }
   ],
   "source": [
    "train_df['target'].value_counts()"
   ]
  },
  {
   "cell_type": "code",
   "execution_count": 39,
   "metadata": {},
   "outputs": [
    {
     "output_type": "execute_result",
     "data": {
      "text/plain": [
       "0    203\n",
       "1    182\n",
       "Name: target, dtype: int64"
      ]
     },
     "metadata": {},
     "execution_count": 39
    }
   ],
   "source": [
    "test_df['target'].value_counts()"
   ]
  },
  {
   "cell_type": "code",
   "execution_count": 40,
   "metadata": {},
   "outputs": [],
   "source": [
    "\n",
    "    \n",
    "train_sentence=train_df['text'].tolist()\n",
    "test_sentence=test_df['text'].tolist()"
   ]
  },
  {
   "cell_type": "code",
   "execution_count": 41,
   "metadata": {},
   "outputs": [
    {
     "output_type": "stream",
     "name": "stdout",
     "text": [
      "[0 1 0 ... 0 1 0]\n"
     ]
    }
   ],
   "source": [
    "train_label=train_df['target'].values\n",
    "test_label=test_df['target'].values\n",
    "print(train_label)"
   ]
  },
  {
   "cell_type": "code",
   "execution_count": 42,
   "metadata": {},
   "outputs": [
    {
     "output_type": "stream",
     "name": "stdout",
     "text": [
      "<class 'numpy.ndarray'>\n"
     ]
    }
   ],
   "source": [
    "print(type(train_label))"
   ]
  },
  {
   "cell_type": "code",
   "execution_count": 43,
   "metadata": {},
   "outputs": [
    {
     "output_type": "stream",
     "name": "stdout",
     "text": [
      "2000\n385\n"
     ]
    }
   ],
   "source": [
    "print(len(train_sentence))\n",
    "print(len(test_sentence))"
   ]
  },
  {
   "cell_type": "code",
   "execution_count": 44,
   "metadata": {},
   "outputs": [],
   "source": [
    "import gensim\n",
    "from gensim import corpora\n",
    "from gensim.models import FastText\n",
    "def custom_embeddings(train_list,test_list):\n",
    "    main_list=train_list+test_list\n",
    "    model = FastText(main_list,size=50,min_count=1,window=5)\n",
    "    return model"
   ]
  },
  {
   "cell_type": "code",
   "execution_count": 45,
   "metadata": {},
   "outputs": [],
   "source": [
    "embed_model=custom_embeddings(train_sentence,test_sentence)\n"
   ]
  },
  {
   "cell_type": "code",
   "execution_count": 46,
   "metadata": {},
   "outputs": [],
   "source": [
    "import numpy as np\n",
    "def build_weight_matrix(model):\n",
    "    dictionary={}\n",
    "    matrix_len = len(model.wv.vocab)\n",
    "    weights_matrix = np.zeros((matrix_len, 50))\n",
    "    words_found = 0\n",
    "    for i, word in enumerate(model.wv.vocab):\n",
    "        weights_matrix[i] = model[word]\n",
    "        dictionary[word]=i\n",
    "        words_found += 1\n",
    "    return weights_matrix,dictionary    \n"
   ]
  },
  {
   "cell_type": "code",
   "execution_count": 47,
   "metadata": {},
   "outputs": [],
   "source": [
    "weight_matrix,dictionary=build_weight_matrix(embed_model)"
   ]
  },
  {
   "cell_type": "code",
   "execution_count": 48,
   "metadata": {},
   "outputs": [
    {
     "output_type": "stream",
     "name": "stdout",
     "text": [
      "6469\n"
     ]
    }
   ],
   "source": [
    "print(len(dictionary))"
   ]
  },
  {
   "cell_type": "code",
   "execution_count": 49,
   "metadata": {},
   "outputs": [
    {
     "output_type": "execute_result",
     "data": {
      "text/plain": [
       "(6469, 50)"
      ]
     },
     "metadata": {},
     "execution_count": 49
    }
   ],
   "source": [
    "weight_matrix.shape"
   ]
  },
  {
   "cell_type": "code",
   "execution_count": 50,
   "metadata": {},
   "outputs": [],
   "source": [
    "def sentence_to_int(l):\n",
    "    f_list=[]\n",
    "    for sent in l:\n",
    "        new_list=[]\n",
    "        for word in sent:\n",
    "            new_list.append(dictionary[word])\n",
    "        t=torch.LongTensor(new_list)\n",
    "        f_list.append(t)    \n",
    "    return f_list        \n"
   ]
  },
  {
   "cell_type": "code",
   "execution_count": 51,
   "metadata": {},
   "outputs": [],
   "source": [
    "train_sentence_int=sentence_to_int(train_sentence)\n",
    "test_sentence_int=sentence_to_int(test_sentence)"
   ]
  },
  {
   "cell_type": "code",
   "execution_count": 52,
   "metadata": {
    "tags": []
   },
   "outputs": [
    {
     "output_type": "stream",
     "name": "stdout",
     "text": [
      "2000\n385\n"
     ]
    }
   ],
   "source": [
    "print(len(train_sentence_int))\n",
    "print(len(test_sentence_int))"
   ]
  },
  {
   "cell_type": "code",
   "execution_count": 54,
   "metadata": {},
   "outputs": [],
   "source": [
    "from torch.nn.utils.rnn import pad_sequence\n",
    "train_tensor=pad_sequence(sequences=train_sentence_int,batch_first=True,padding_value=0.0)\n",
    "test_tensor=pad_sequence(sequences=test_sentence_int,batch_first=True,padding_value=0.0)"
   ]
  },
  {
   "cell_type": "code",
   "execution_count": 55,
   "metadata": {},
   "outputs": [],
   "source": [
    "from torch.utils.data import TensorDataset, DataLoader\n",
    "train_data = TensorDataset(train_tensor, torch.from_numpy(train_label))\n",
    "test_data = TensorDataset(test_tensor, torch.from_numpy(test_label))"
   ]
  },
  {
   "cell_type": "code",
   "execution_count": 56,
   "metadata": {},
   "outputs": [],
   "source": [
    "batch_size = 16\n",
    "train_loader = DataLoader(train_data, shuffle=True, batch_size=batch_size)\n",
    "test_loader = DataLoader(test_data, shuffle=True, batch_size=batch_size,drop_last=True)"
   ]
  },
  {
   "cell_type": "code",
   "execution_count": 57,
   "metadata": {},
   "outputs": [],
   "source": [
    "import torch.nn as nn"
   ]
  },
  {
   "cell_type": "code",
   "execution_count": 58,
   "metadata": {},
   "outputs": [],
   "source": [
    "def create_emb_layer(weights_matrix, non_trainable=False):\n",
    "    num_embeddings, embedding_dim = weights_matrix.shape\n",
    "    emb_layer = nn.Embedding(num_embeddings, embedding_dim)\n",
    "    emb_layer.load_state_dict({'weight': torch.from_numpy(weights_matrix).long()})\n",
    "    if non_trainable:\n",
    "        emb_layer.weight.requires_grad = False\n",
    "    return emb_layer, num_embeddings, embedding_dim \n",
    "\n",
    "    \n",
    "class LSTM_NN(nn.Module):\n",
    "    \n",
    "    def __init__(self,weights_matrix, output_size, hidden_size, n_layers, drop_prob=0.5):\n",
    "        super(LSTM_NN, self).__init__()\n",
    "        self.output_size = output_size\n",
    "        self.n_layers = n_layers\n",
    "        self.hidden_size = hidden_size\n",
    "        \n",
    "        self.embed, num_embeddings, embedding_dim = create_emb_layer(weights_matrix, True)\n",
    "        self.lstm = nn.LSTM(embedding_dim, hidden_size, n_layers, dropout=drop_prob, batch_first=True)\n",
    "        self.dropout = nn.Dropout(drop_prob)\n",
    "        self.l1 = nn.Linear(hidden_size, output_size)\n",
    "        self.prob = nn.Sigmoid()\n",
    "\n",
    "    def init_hidden(self, batch_size):\n",
    "        weight = next(self.parameters()).data\n",
    "        hidden = (weight.new(self.n_layers, batch_size, self.hidden_size).zero_(),\n",
    "                      weight.new(self.n_layers, batch_size, self.hidden_size).zero_())  \n",
    "        return hidden              \n",
    "        \n",
    "    def forward(self,x, hidden):\n",
    "        batch_size = x.size(0)\n",
    "        x = x.long()\n",
    "        embeds = self.embed(x)\n",
    "        lstm_out, hidden = self.lstm(embeds, hidden)\n",
    "        lstm_out=lstm_out.contiguous().view(-1, self.hidden_size)\n",
    "        \n",
    "        out = self.dropout(lstm_out)\n",
    "        out_l1 = self.l1(out)\n",
    "        sig_out = self.prob(out_l1)\n",
    "\n",
    "        sig_out = sig_out.view(batch_size, -1)\n",
    "        sig_out = sig_out[:, -1]\n",
    "        \n",
    "        \n",
    "        return sig_out, hidden"
   ]
  },
  {
   "cell_type": "code",
   "execution_count": 59,
   "metadata": {},
   "outputs": [],
   "source": [
    "\n",
    "output_size = 1\n",
    "hidden_size = 128\n",
    "n_layers = 1\n",
    "model = LSTM_NN(weight_matrix, output_size, hidden_size, n_layers)"
   ]
  },
  {
   "cell_type": "code",
   "execution_count": 60,
   "metadata": {},
   "outputs": [],
   "source": [
    "criterion = nn.BCELoss()\n",
    "optimizer = torch.optim.Adam( model.parameters(), lr=0.01)"
   ]
  },
  {
   "cell_type": "code",
   "execution_count": 62,
   "metadata": {},
   "outputs": [],
   "source": [
    "def train_loop(model,batch_size,optimizer,criterion):\n",
    "    num_epochs = 50\n",
    "    clip = 5\n",
    "    epoch_loss=[]\n",
    "    model.train()\n",
    "    for epoch in range(num_epochs):\n",
    "        h = model.init_hidden(batch_size)\n",
    "        train_loss=[]\n",
    "        for i, (sent, label) in enumerate(train_loader):\n",
    "            h = tuple([e.data for e in h])\n",
    "            model.zero_grad()\n",
    "            #print(label.shape)\n",
    "            output, h = model(sent, h)\n",
    "            #print(output.shape)\n",
    "            loss = criterion(output.squeeze(), label.float())\n",
    "            train_loss.append(loss.item())\n",
    "            loss.backward()\n",
    "            nn.utils.clip_grad_norm_(model.parameters(), clip)\n",
    "            optimizer.step()    \n",
    "        epoch_loss.append(np.mean(train_loss))\n",
    "        print('Epoch: {}  Loss: {}'.format(epoch,np.mean(train_loss)))"
   ]
  },
  {
   "cell_type": "code",
   "execution_count": null,
   "metadata": {},
   "outputs": [],
   "source": [
    "train_loop(model,batch_size,optimizer,criterion)"
   ]
  },
  {
   "cell_type": "code",
   "execution_count": 65,
   "metadata": {},
   "outputs": [
    {
     "output_type": "stream",
     "name": "stdout",
     "text": [
      "Test loss: 0.694\nTest accuracy: 47.013%\n"
     ]
    }
   ],
   "source": [
    "test_losses = []\n",
    "num_correct = 0\n",
    "h = model.init_hidden(batch_size)\n",
    "\n",
    "model.eval()\n",
    "for inputs, labels in test_loader:\n",
    "    h = tuple([each.data for each in h])\n",
    "    \n",
    "    output, h = model(inputs, h)\n",
    "    test_loss = criterion(output.squeeze(), labels.float())\n",
    "    test_losses.append(test_loss.item())\n",
    "    pred = torch.round(output.squeeze())  # Rounds the output to 0/1\n",
    "    correct_tensor = pred.eq(labels.float().view_as(pred))\n",
    "    correct = np.squeeze(correct_tensor.cpu().numpy())\n",
    "    num_correct += np.sum(correct)\n",
    "\n",
    "print(\"Test loss: {:.3f}\".format(np.mean(test_losses)))\n",
    "test_acc = num_correct/len(test_loader.dataset)\n",
    "print(\"Test accuracy: {:.3f}%\".format(test_acc*100))\n"
   ]
  },
  {
   "cell_type": "code",
   "execution_count": 77,
   "metadata": {},
   "outputs": [],
   "source": [
    "def predict(model, dictionary,test_review, sequence_length=27):\n",
    "\n",
    " model.eval()\n",
    "\n",
    "# tokenize review\n",
    " review_list=remove_stopwords(test_review)\n",
    "\n",
    " review_ints = [dictionary[word] for word in review_list]\n",
    "\n",
    "# pad tokenized sequence\n",
    " review_ints.extend([0.0] * abs(sequence_length-len(review_ints)))\n",
    "\n",
    " review_ints=np.array(review_ints)\n",
    "\n",
    " review_tensor=torch.from_numpy(review_ints)\n",
    "\n",
    " review_tensor=review_tensor.unsqueeze(0)\n",
    "\n",
    " batch_size = 1\n",
    "\n",
    " print(review_tensor.size())\n",
    "\n",
    " h = model.init_hidden(batch_size)\n",
    "\n",
    " output, h = model(review_tensor, h)\n",
    "\n",
    " pred = torch.round(output.squeeze())\n",
    "\n",
    " print('Prediction value, pre-rounding: {:.2f}'.format(output.item()))\n",
    "\n",
    " if(pred.item()==1):\n",
    "     print(\"Positive review detected!\")\n",
    " else:\n",
    "     print(\"Negative review detected.\")"
   ]
  },
  {
   "cell_type": "code",
   "execution_count": 78,
   "metadata": {},
   "outputs": [
    {
     "output_type": "stream",
     "name": "stdout",
     "text": [
      "torch.Size([1, 27])\nPrediction value, pre-rounding: 0.50\nPositive review detected!\n"
     ]
    }
   ],
   "source": [
    "predict(model,dictionary,\"अच्छी तरह से समाप्त हो गया\")"
   ]
  },
  {
   "cell_type": "code",
   "execution_count": 79,
   "metadata": {},
   "outputs": [],
   "source": [
    "from flask import Flask"
   ]
  },
  {
   "cell_type": "code",
   "execution_count": 81,
   "metadata": {},
   "outputs": [],
   "source": [
    "import pickle\n",
    "with open('dictionary.pickle', 'wb') as handle:\n",
    "    pickle.dump(dictionary, handle)"
   ]
  },
  {
   "cell_type": "code",
   "execution_count": 82,
   "metadata": {},
   "outputs": [],
   "source": [
    "import tempfile"
   ]
  },
  {
   "cell_type": "code",
   "execution_count": null,
   "metadata": {},
   "outputs": [],
   "source": []
  }
 ]
}